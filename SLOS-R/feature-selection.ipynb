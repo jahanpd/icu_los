{
 "cells": [
  {
   "cell_type": "code",
   "execution_count": 4,
   "metadata": {
    "vscode": {
     "languageId": "r"
    }
   },
   "outputs": [
    {
     "name": "stderr",
     "output_type": "stream",
     "text": [
      "Loading required package: ggplot2\n",
      "\n",
      "Loading required package: lattice\n",
      "\n",
      "randomForest 4.7-1.1\n",
      "\n",
      "Type rfNews() to see new features/changes/bug fixes.\n",
      "\n",
      "\n",
      "Attaching package: ‘randomForest’\n",
      "\n",
      "\n",
      "The following object is masked from ‘package:ggplot2’:\n",
      "\n",
      "    margin\n",
      "\n",
      "\n"
     ]
    }
   ],
   "source": [
    "library(caret)\n",
    "library(randomForest)"
   ]
  },
  {
   "cell_type": "code",
   "execution_count": 3,
   "metadata": {
    "vscode": {
     "languageId": "r"
    }
   },
   "outputs": [],
   "source": [
    "load('training.RData')\n",
    "load('testing.RData')\n",
    "training = training_imp\n",
    "testing = testing_imp"
   ]
  },
  {
   "cell_type": "code",
   "execution_count": 4,
   "metadata": {
    "vscode": {
     "languageId": "r"
    }
   },
   "outputs": [],
   "source": [
    "#basic parameter tuning\n",
    "fitControl <- trainControl(## 5-fold CV\n",
    "  method = \"cv\", number = 5, verboseIter = TRUE,returnData = FALSE,trim = TRUE)"
   ]
  },
  {
   "cell_type": "code",
   "execution_count": 5,
   "metadata": {
    "vscode": {
     "languageId": "r"
    }
   },
   "outputs": [],
   "source": [
    "#Normalization\n",
    "cols <- dim(training)[2]\n",
    "preproc = preProcess(training[,-cols],method = c(\"range\"))\n",
    "training_norm = predict(preproc,training)\n",
    "testing_norm = predict(preproc,testing)"
   ]
  },
  {
   "cell_type": "code",
   "execution_count": 20,
   "metadata": {
    "vscode": {
     "languageId": "r"
    }
   },
   "outputs": [
    {
     "name": "stdout",
     "output_type": "stream",
     "text": [
      "+(rfe) fit Fold1 size: 30 \n",
      "-(rfe) fit Fold1 size: 30 \n",
      "+(rfe) imp Fold1 \n",
      "-(rfe) imp Fold1 \n",
      "+(rfe) fit Fold1 size: 25 \n",
      "-(rfe) fit Fold1 size: 25 \n",
      "+(rfe) fit Fold1 size: 20 \n",
      "-(rfe) fit Fold1 size: 20 \n",
      "+(rfe) fit Fold1 size: 15 \n",
      "-(rfe) fit Fold1 size: 15 \n",
      "+(rfe) fit Fold1 size: 10 \n",
      "-(rfe) fit Fold1 size: 10 \n",
      "+(rfe) fit Fold1 size:  5 \n",
      "-(rfe) fit Fold1 size:  5 \n",
      "+(rfe) fit Fold2 size: 30 \n",
      "-(rfe) fit Fold2 size: 30 \n",
      "+(rfe) imp Fold2 \n",
      "-(rfe) imp Fold2 \n",
      "+(rfe) fit Fold2 size: 25 \n",
      "-(rfe) fit Fold2 size: 25 \n",
      "+(rfe) fit Fold2 size: 20 \n",
      "-(rfe) fit Fold2 size: 20 \n",
      "+(rfe) fit Fold2 size: 15 \n",
      "-(rfe) fit Fold2 size: 15 \n",
      "+(rfe) fit Fold2 size: 10 \n",
      "-(rfe) fit Fold2 size: 10 \n",
      "+(rfe) fit Fold2 size:  5 \n",
      "-(rfe) fit Fold2 size:  5 \n",
      "+(rfe) fit Fold3 size: 30 \n",
      "-(rfe) fit Fold3 size: 30 \n",
      "+(rfe) imp Fold3 \n",
      "-(rfe) imp Fold3 \n",
      "+(rfe) fit Fold3 size: 25 \n",
      "-(rfe) fit Fold3 size: 25 \n",
      "+(rfe) fit Fold3 size: 20 \n",
      "-(rfe) fit Fold3 size: 20 \n",
      "+(rfe) fit Fold3 size: 15 \n",
      "-(rfe) fit Fold3 size: 15 \n",
      "+(rfe) fit Fold3 size: 10 \n",
      "-(rfe) fit Fold3 size: 10 \n",
      "+(rfe) fit Fold3 size:  5 \n",
      "-(rfe) fit Fold3 size:  5 \n",
      "+(rfe) fit Fold4 size: 30 \n",
      "-(rfe) fit Fold4 size: 30 \n",
      "+(rfe) imp Fold4 \n",
      "-(rfe) imp Fold4 \n",
      "+(rfe) fit Fold4 size: 25 \n",
      "-(rfe) fit Fold4 size: 25 \n",
      "+(rfe) fit Fold4 size: 20 \n",
      "-(rfe) fit Fold4 size: 20 \n",
      "+(rfe) fit Fold4 size: 15 \n",
      "-(rfe) fit Fold4 size: 15 \n",
      "+(rfe) fit Fold4 size: 10 \n",
      "-(rfe) fit Fold4 size: 10 \n",
      "+(rfe) fit Fold4 size:  5 \n",
      "-(rfe) fit Fold4 size:  5 \n",
      "+(rfe) fit Fold5 size: 30 \n",
      "-(rfe) fit Fold5 size: 30 \n",
      "+(rfe) imp Fold5 \n",
      "-(rfe) imp Fold5 \n",
      "+(rfe) fit Fold5 size: 25 \n",
      "-(rfe) fit Fold5 size: 25 \n",
      "+(rfe) fit Fold5 size: 20 \n",
      "-(rfe) fit Fold5 size: 20 \n",
      "+(rfe) fit Fold5 size: 15 \n",
      "-(rfe) fit Fold5 size: 15 \n",
      "+(rfe) fit Fold5 size: 10 \n",
      "-(rfe) fit Fold5 size: 10 \n",
      "+(rfe) fit Fold5 size:  5 \n",
      "-(rfe) fit Fold5 size:  5 \n",
      "\n",
      "Recursive feature selection\n",
      "\n",
      "Outer resampling method: Cross-Validated (5 fold) \n",
      "\n",
      "Resampling performance over subset size:\n",
      "\n",
      " Variables  RMSE Rsquared   MAE RMSESD RsquaredSD  MAESD Selected\n",
      "         5 119.0   0.1222 51.58  2.258   0.004999 0.1457         \n",
      "        10 119.0   0.1220 51.59  2.201   0.004099 0.1254         \n",
      "        15 119.0   0.1225 51.54  2.200   0.004302 0.2366         \n",
      "        20 119.0   0.1221 51.58  2.297   0.005216 0.1999         \n",
      "        25 119.0   0.1218 51.63  2.179   0.003082 0.3631         \n",
      "        30 118.9   0.1231 51.44  2.157   0.003562 0.2592        *\n",
      "\n",
      "The top 5 variables (out of 30):\n",
      "   DeathProbability, IsRenalReplacementTherapy, IsNonInvasiveVentilation, IsVasopressors, SofaScore\n",
      "\n"
     ]
    },
    {
     "data": {
      "text/html": [
       "<style>\n",
       ".list-inline {list-style: none; margin:0; padding: 0}\n",
       ".list-inline>li {display: inline-block}\n",
       ".list-inline>li:not(:last-child)::after {content: \"\\00b7\"; padding: 0 .5ex}\n",
       "</style>\n",
       "<ol class=list-inline><li>'DeathProbability'</li><li>'IsRenalReplacementTherapy'</li><li>'IsNonInvasiveVentilation'</li><li>'IsVasopressors'</li><li>'SofaScore'</li><li>'AdmissionSourceName'</li><li>'PaCO21h'</li><li>'HighestHeartRate24h'</li><li>'LowestGlasgowComaScale24h'</li><li>'LowestPlateletsCount24h'</li><li>'HighestRespiratoryRate24h'</li><li>'FiO224h'</li><li>'Gender'</li><li>'HighestCreatinine24h'</li><li>'HighestTemperature24h'</li><li>'Age'</li><li>'Bilirubin24h'</li><li>'BMI'</li><li>'HighestLeukocyteCount24h'</li><li>'IsChfNyhaClass4'</li><li>'IsCrfDialysis'</li><li>'IsDiabetes'</li><li>'IsSevereCopd'</li><li>'IsSolidTumorMetastatic'</li><li>'Lactate24h'</li><li>'LowestDiastolicBloodPressure24h'</li><li>'LowestSystolicBloodPressure24h'</li><li>'PaO24h'</li><li>'pH24h'</li><li>'Urea24h'</li></ol>\n"
      ],
      "text/latex": [
       "\\begin{enumerate*}\n",
       "\\item 'DeathProbability'\n",
       "\\item 'IsRenalReplacementTherapy'\n",
       "\\item 'IsNonInvasiveVentilation'\n",
       "\\item 'IsVasopressors'\n",
       "\\item 'SofaScore'\n",
       "\\item 'AdmissionSourceName'\n",
       "\\item 'PaCO21h'\n",
       "\\item 'HighestHeartRate24h'\n",
       "\\item 'LowestGlasgowComaScale24h'\n",
       "\\item 'LowestPlateletsCount24h'\n",
       "\\item 'HighestRespiratoryRate24h'\n",
       "\\item 'FiO224h'\n",
       "\\item 'Gender'\n",
       "\\item 'HighestCreatinine24h'\n",
       "\\item 'HighestTemperature24h'\n",
       "\\item 'Age'\n",
       "\\item 'Bilirubin24h'\n",
       "\\item 'BMI'\n",
       "\\item 'HighestLeukocyteCount24h'\n",
       "\\item 'IsChfNyhaClass4'\n",
       "\\item 'IsCrfDialysis'\n",
       "\\item 'IsDiabetes'\n",
       "\\item 'IsSevereCopd'\n",
       "\\item 'IsSolidTumorMetastatic'\n",
       "\\item 'Lactate24h'\n",
       "\\item 'LowestDiastolicBloodPressure24h'\n",
       "\\item 'LowestSystolicBloodPressure24h'\n",
       "\\item 'PaO24h'\n",
       "\\item 'pH24h'\n",
       "\\item 'Urea24h'\n",
       "\\end{enumerate*}\n"
      ],
      "text/markdown": [
       "1. 'DeathProbability'\n",
       "2. 'IsRenalReplacementTherapy'\n",
       "3. 'IsNonInvasiveVentilation'\n",
       "4. 'IsVasopressors'\n",
       "5. 'SofaScore'\n",
       "6. 'AdmissionSourceName'\n",
       "7. 'PaCO21h'\n",
       "8. 'HighestHeartRate24h'\n",
       "9. 'LowestGlasgowComaScale24h'\n",
       "10. 'LowestPlateletsCount24h'\n",
       "11. 'HighestRespiratoryRate24h'\n",
       "12. 'FiO224h'\n",
       "13. 'Gender'\n",
       "14. 'HighestCreatinine24h'\n",
       "15. 'HighestTemperature24h'\n",
       "16. 'Age'\n",
       "17. 'Bilirubin24h'\n",
       "18. 'BMI'\n",
       "19. 'HighestLeukocyteCount24h'\n",
       "20. 'IsChfNyhaClass4'\n",
       "21. 'IsCrfDialysis'\n",
       "22. 'IsDiabetes'\n",
       "23. 'IsSevereCopd'\n",
       "24. 'IsSolidTumorMetastatic'\n",
       "25. 'Lactate24h'\n",
       "26. 'LowestDiastolicBloodPressure24h'\n",
       "27. 'LowestSystolicBloodPressure24h'\n",
       "28. 'PaO24h'\n",
       "29. 'pH24h'\n",
       "30. 'Urea24h'\n",
       "\n",
       "\n"
      ],
      "text/plain": [
       " [1] \"DeathProbability\"                \"IsRenalReplacementTherapy\"      \n",
       " [3] \"IsNonInvasiveVentilation\"        \"IsVasopressors\"                 \n",
       " [5] \"SofaScore\"                       \"AdmissionSourceName\"            \n",
       " [7] \"PaCO21h\"                         \"HighestHeartRate24h\"            \n",
       " [9] \"LowestGlasgowComaScale24h\"       \"LowestPlateletsCount24h\"        \n",
       "[11] \"HighestRespiratoryRate24h\"       \"FiO224h\"                        \n",
       "[13] \"Gender\"                          \"HighestCreatinine24h\"           \n",
       "[15] \"HighestTemperature24h\"           \"Age\"                            \n",
       "[17] \"Bilirubin24h\"                    \"BMI\"                            \n",
       "[19] \"HighestLeukocyteCount24h\"        \"IsChfNyhaClass4\"                \n",
       "[21] \"IsCrfDialysis\"                   \"IsDiabetes\"                     \n",
       "[23] \"IsSevereCopd\"                    \"IsSolidTumorMetastatic\"         \n",
       "[25] \"Lactate24h\"                      \"LowestDiastolicBloodPressure24h\"\n",
       "[27] \"LowestSystolicBloodPressure24h\"  \"PaO24h\"                         \n",
       "[29] \"pH24h\"                           \"Urea24h\"                        "
      ]
     },
     "metadata": {},
     "output_type": "display_data"
    },
    {
     "data": {
      "text/html": [
       "<style>\n",
       ".list-inline {list-style: none; margin:0; padding: 0}\n",
       ".list-inline>li {display: inline-block}\n",
       ".list-inline>li:not(:last-child)::after {content: \"\\00b7\"; padding: 0 .5ex}\n",
       "</style>\n",
       "<ol class=list-inline><li>'DeathProbability'</li><li>'IsRenalReplacementTherapy'</li><li>'IsNonInvasiveVentilation'</li><li>'IsVasopressors'</li><li>'SofaScore'</li><li>'AdmissionSourceName'</li></ol>\n"
      ],
      "text/latex": [
       "\\begin{enumerate*}\n",
       "\\item 'DeathProbability'\n",
       "\\item 'IsRenalReplacementTherapy'\n",
       "\\item 'IsNonInvasiveVentilation'\n",
       "\\item 'IsVasopressors'\n",
       "\\item 'SofaScore'\n",
       "\\item 'AdmissionSourceName'\n",
       "\\end{enumerate*}\n"
      ],
      "text/markdown": [
       "1. 'DeathProbability'\n",
       "2. 'IsRenalReplacementTherapy'\n",
       "3. 'IsNonInvasiveVentilation'\n",
       "4. 'IsVasopressors'\n",
       "5. 'SofaScore'\n",
       "6. 'AdmissionSourceName'\n",
       "\n",
       "\n"
      ],
      "text/plain": [
       "[1] \"DeathProbability\"          \"IsRenalReplacementTherapy\"\n",
       "[3] \"IsNonInvasiveVentilation\"  \"IsVasopressors\"           \n",
       "[5] \"SofaScore\"                 \"AdmissionSourceName\"      "
      ]
     },
     "metadata": {},
     "output_type": "display_data"
    },
    {
     "data": {
      "text/html": [
       "<table class=\"dataframe\">\n",
       "<caption>A data.frame: 6 × 1</caption>\n",
       "<thead>\n",
       "\t<tr><th></th><th scope=col>Overall</th></tr>\n",
       "\t<tr><th></th><th scope=col>&lt;dbl&gt;</th></tr>\n",
       "</thead>\n",
       "<tbody>\n",
       "\t<tr><th scope=row>DeathProbability</th><td>0.14066909</td></tr>\n",
       "\t<tr><th scope=row>IsRenalReplacementTherapy</th><td>0.11789435</td></tr>\n",
       "\t<tr><th scope=row>IsNonInvasiveVentilation</th><td>0.07701400</td></tr>\n",
       "\t<tr><th scope=row>IsVasopressors</th><td>0.06087444</td></tr>\n",
       "\t<tr><th scope=row>SofaScore</th><td>0.05570600</td></tr>\n",
       "\t<tr><th scope=row>AdmissionSourceName</th><td>0.03649806</td></tr>\n",
       "</tbody>\n",
       "</table>\n"
      ],
      "text/latex": [
       "A data.frame: 6 × 1\n",
       "\\begin{tabular}{r|l}\n",
       "  & Overall\\\\\n",
       "  & <dbl>\\\\\n",
       "\\hline\n",
       "\tDeathProbability & 0.14066909\\\\\n",
       "\tIsRenalReplacementTherapy & 0.11789435\\\\\n",
       "\tIsNonInvasiveVentilation & 0.07701400\\\\\n",
       "\tIsVasopressors & 0.06087444\\\\\n",
       "\tSofaScore & 0.05570600\\\\\n",
       "\tAdmissionSourceName & 0.03649806\\\\\n",
       "\\end{tabular}\n"
      ],
      "text/markdown": [
       "\n",
       "A data.frame: 6 × 1\n",
       "\n",
       "| <!--/--> | Overall &lt;dbl&gt; |\n",
       "|---|---|\n",
       "| DeathProbability | 0.14066909 |\n",
       "| IsRenalReplacementTherapy | 0.11789435 |\n",
       "| IsNonInvasiveVentilation | 0.07701400 |\n",
       "| IsVasopressors | 0.06087444 |\n",
       "| SofaScore | 0.05570600 |\n",
       "| AdmissionSourceName | 0.03649806 |\n",
       "\n"
      ],
      "text/plain": [
       "                          Overall   \n",
       "DeathProbability          0.14066909\n",
       "IsRenalReplacementTherapy 0.11789435\n",
       "IsNonInvasiveVentilation  0.07701400\n",
       "IsVasopressors            0.06087444\n",
       "SofaScore                 0.05570600\n",
       "AdmissionSourceName       0.03649806"
      ]
     },
     "metadata": {},
     "output_type": "display_data"
    },
    {
     "data": {
      "image/png": "[encoded data removed]",
      "text/plain": [
       "plot without title"
      ]
     },
     "metadata": {
      "image/png": {
       "height": 420,
       "width": 420
      }
     },
     "output_type": "display_data"
    }
   ],
   "source": [
    "#Recursive feature elimination using Treebag functions\n",
    "set.seed(420)\n",
    "subsets = c(5,10,15,20,25,30)\n",
    "rfe_control = rfeControl(functions=treebagFuncs,\n",
    "                         method = \"cv\",\n",
    "                         number = 5,\n",
    "                         returnResamp = \"all\",\n",
    "                         verbose = T)\n",
    "rfe_result = rfe(training_norm[,-cols],\n",
    "                 training_norm[,cols],\n",
    "                 sizes=subsets,\n",
    "                 metric=\"RMSE\",\n",
    "                 rfeControl = rfe_control)\n",
    "\n",
    "print(rfe_result)\n",
    "predictors(rfe_result)\n",
    "plot(rfe_result,type=c(\"g\",\"o\"))\n",
    "head(rfe_result$optVariables)\n",
    "head(varImp(rfe_result))\n",
    "save(rfe_result,file=\"rfe_result_treebag.RData\")\n"
   ]
  },
  {
   "cell_type": "code",
   "execution_count": 6,
   "metadata": {
    "vscode": {
     "languageId": "r"
    }
   },
   "outputs": [
    {
     "name": "stdout",
     "output_type": "stream",
     "text": [
      "+(rfe) fit Fold1 size: 30 \n"
     ]
    },
    {
     "ename": "",
     "evalue": "",
     "output_type": "error",
     "traceback": [
      "\u001b[1;31mThe Kernel crashed while executing code in the current cell or a previous cell. \n",
      "\u001b[1;31mPlease review the code in the cell(s) to identify a possible cause of the failure. \n",
      "\u001b[1;31mClick <a href='https://aka.ms/vscodeJupyterKernelCrash'>here</a> for more info. \n",
      "\u001b[1;31mView Jupyter <a href='command:jupyter.viewOutput'>log</a> for further details."
     ]
    }
   ],
   "source": [
    "#Recursive feature elimination using Random Forests functions\n",
    "set.seed(100) \n",
    "subsets = c(5,10,15,20,25,30)\n",
    "rfe_control = rfeControl(functions=rfFuncs,\n",
    "                         method = \"cv\",\n",
    "                         number = 5,\n",
    "                         verbose = T,\n",
    "                         saveDetails = F,\n",
    "                         returnResamp = \"none\")\n",
    "rfe_result = rfe(training[,-cols],\n",
    "                 training[,cols],\n",
    "                 sizes=subsets,\n",
    "                 metric=\"RMSE\",\n",
    "                 rfeControl = rfe_control)\n",
    "save(rfe_result,file=\"rfe_result_RF.RData\")"
   ]
  },
  {
   "cell_type": "code",
   "execution_count": null,
   "metadata": {
    "vscode": {
     "languageId": "r"
    }
   },
   "outputs": [
    {
     "data": {
      "text/html": [
       "<table class=\"dataframe\">\n",
       "<caption>A data.frame: 6 × 7</caption>\n",
       "<thead>\n",
       "\t<tr><th scope=col>Variables</th><th scope=col>RMSE</th><th scope=col>Rsquared</th><th scope=col>MAE</th><th scope=col>RMSESD</th><th scope=col>RsquaredSD</th><th scope=col>MAESD</th></tr>\n",
       "\t<tr><th scope=col>&lt;dbl&gt;</th><th scope=col>&lt;dbl&gt;</th><th scope=col>&lt;dbl&gt;</th><th scope=col>&lt;dbl&gt;</th><th scope=col>&lt;dbl&gt;</th><th scope=col>&lt;dbl&gt;</th><th scope=col>&lt;dbl&gt;</th></tr>\n",
       "</thead>\n",
       "<tbody>\n",
       "\t<tr><td> 5</td><td>119.0021</td><td>0.1221845</td><td>51.57860</td><td>2.258069</td><td>0.004998706</td><td>0.1457323</td></tr>\n",
       "\t<tr><td>10</td><td>119.0153</td><td>0.1219707</td><td>51.58581</td><td>2.201079</td><td>0.004098991</td><td>0.1254412</td></tr>\n",
       "\t<tr><td>15</td><td>118.9789</td><td>0.1225200</td><td>51.53920</td><td>2.200311</td><td>0.004302390</td><td>0.2366145</td></tr>\n",
       "\t<tr><td>20</td><td>119.0078</td><td>0.1221018</td><td>51.58127</td><td>2.296649</td><td>0.005215831</td><td>0.1999011</td></tr>\n",
       "\t<tr><td>25</td><td>119.0276</td><td>0.1217729</td><td>51.62768</td><td>2.178830</td><td>0.003081585</td><td>0.3631082</td></tr>\n",
       "\t<tr><td>30</td><td>118.9370</td><td>0.1231292</td><td>51.43747</td><td>2.157213</td><td>0.003561752</td><td>0.2592225</td></tr>\n",
       "</tbody>\n",
       "</table>\n"
      ],
      "text/latex": [
       "A data.frame: 6 × 7\n",
       "\\begin{tabular}{lllllll}\n",
       " Variables & RMSE & Rsquared & MAE & RMSESD & RsquaredSD & MAESD\\\\\n",
       " <dbl> & <dbl> & <dbl> & <dbl> & <dbl> & <dbl> & <dbl>\\\\\n",
       "\\hline\n",
       "\t  5 & 119.0021 & 0.1221845 & 51.57860 & 2.258069 & 0.004998706 & 0.1457323\\\\\n",
       "\t 10 & 119.0153 & 0.1219707 & 51.58581 & 2.201079 & 0.004098991 & 0.1254412\\\\\n",
       "\t 15 & 118.9789 & 0.1225200 & 51.53920 & 2.200311 & 0.004302390 & 0.2366145\\\\\n",
       "\t 20 & 119.0078 & 0.1221018 & 51.58127 & 2.296649 & 0.005215831 & 0.1999011\\\\\n",
       "\t 25 & 119.0276 & 0.1217729 & 51.62768 & 2.178830 & 0.003081585 & 0.3631082\\\\\n",
       "\t 30 & 118.9370 & 0.1231292 & 51.43747 & 2.157213 & 0.003561752 & 0.2592225\\\\\n",
       "\\end{tabular}\n"
      ],
      "text/markdown": [
       "\n",
       "A data.frame: 6 × 7\n",
       "\n",
       "| Variables &lt;dbl&gt; | RMSE &lt;dbl&gt; | Rsquared &lt;dbl&gt; | MAE &lt;dbl&gt; | RMSESD &lt;dbl&gt; | RsquaredSD &lt;dbl&gt; | MAESD &lt;dbl&gt; |\n",
       "|---|---|---|---|---|---|---|\n",
       "|  5 | 119.0021 | 0.1221845 | 51.57860 | 2.258069 | 0.004998706 | 0.1457323 |\n",
       "| 10 | 119.0153 | 0.1219707 | 51.58581 | 2.201079 | 0.004098991 | 0.1254412 |\n",
       "| 15 | 118.9789 | 0.1225200 | 51.53920 | 2.200311 | 0.004302390 | 0.2366145 |\n",
       "| 20 | 119.0078 | 0.1221018 | 51.58127 | 2.296649 | 0.005215831 | 0.1999011 |\n",
       "| 25 | 119.0276 | 0.1217729 | 51.62768 | 2.178830 | 0.003081585 | 0.3631082 |\n",
       "| 30 | 118.9370 | 0.1231292 | 51.43747 | 2.157213 | 0.003561752 | 0.2592225 |\n",
       "\n"
      ],
      "text/plain": [
       "  Variables RMSE     Rsquared  MAE      RMSESD   RsquaredSD  MAESD    \n",
       "1  5        119.0021 0.1221845 51.57860 2.258069 0.004998706 0.1457323\n",
       "2 10        119.0153 0.1219707 51.58581 2.201079 0.004098991 0.1254412\n",
       "3 15        118.9789 0.1225200 51.53920 2.200311 0.004302390 0.2366145\n",
       "4 20        119.0078 0.1221018 51.58127 2.296649 0.005215831 0.1999011\n",
       "5 25        119.0276 0.1217729 51.62768 2.178830 0.003081585 0.3631082\n",
       "6 30        118.9370 0.1231292 51.43747 2.157213 0.003561752 0.2592225"
      ]
     },
     "metadata": {},
     "output_type": "display_data"
    },
    {
     "data": {
      "text/plain": [
       "\n",
       "Bagging regression trees with 25 bootstrap replications \n"
      ]
     },
     "metadata": {},
     "output_type": "display_data"
    },
    {
     "data": {
      "text/html": [
       "<style>\n",
       ".list-inline {list-style: none; margin:0; padding: 0}\n",
       ".list-inline>li {display: inline-block}\n",
       ".list-inline>li:not(:last-child)::after {content: \"\\00b7\"; padding: 0 .5ex}\n",
       "</style>\n",
       "<ol class=list-inline><li>'DeathProbability'</li><li>'IsRenalReplacementTherapy'</li><li>'IsNonInvasiveVentilation'</li><li>'IsVasopressors'</li><li>'SofaScore'</li><li>'AdmissionSourceName'</li></ol>\n"
      ],
      "text/latex": [
       "\\begin{enumerate*}\n",
       "\\item 'DeathProbability'\n",
       "\\item 'IsRenalReplacementTherapy'\n",
       "\\item 'IsNonInvasiveVentilation'\n",
       "\\item 'IsVasopressors'\n",
       "\\item 'SofaScore'\n",
       "\\item 'AdmissionSourceName'\n",
       "\\end{enumerate*}\n"
      ],
      "text/markdown": [
       "1. 'DeathProbability'\n",
       "2. 'IsRenalReplacementTherapy'\n",
       "3. 'IsNonInvasiveVentilation'\n",
       "4. 'IsVasopressors'\n",
       "5. 'SofaScore'\n",
       "6. 'AdmissionSourceName'\n",
       "\n",
       "\n"
      ],
      "text/plain": [
       "[1] \"DeathProbability\"          \"IsRenalReplacementTherapy\"\n",
       "[3] \"IsNonInvasiveVentilation\"  \"IsVasopressors\"           \n",
       "[5] \"SofaScore\"                 \"AdmissionSourceName\"      "
      ]
     },
     "metadata": {},
     "output_type": "display_data"
    },
    {
     "data": {
      "text/html": [
       "<table class=\"dataframe\">\n",
       "<caption>A data.frame: 6 × 1</caption>\n",
       "<thead>\n",
       "\t<tr><th></th><th scope=col>Overall</th></tr>\n",
       "\t<tr><th></th><th scope=col>&lt;dbl&gt;</th></tr>\n",
       "</thead>\n",
       "<tbody>\n",
       "\t<tr><th scope=row>DeathProbability</th><td>0.14066909</td></tr>\n",
       "\t<tr><th scope=row>IsRenalReplacementTherapy</th><td>0.11789435</td></tr>\n",
       "\t<tr><th scope=row>IsNonInvasiveVentilation</th><td>0.07701400</td></tr>\n",
       "\t<tr><th scope=row>IsVasopressors</th><td>0.06087444</td></tr>\n",
       "\t<tr><th scope=row>SofaScore</th><td>0.05570600</td></tr>\n",
       "\t<tr><th scope=row>AdmissionSourceName</th><td>0.03649806</td></tr>\n",
       "</tbody>\n",
       "</table>\n"
      ],
      "text/latex": [
       "A data.frame: 6 × 1\n",
       "\\begin{tabular}{r|l}\n",
       "  & Overall\\\\\n",
       "  & <dbl>\\\\\n",
       "\\hline\n",
       "\tDeathProbability & 0.14066909\\\\\n",
       "\tIsRenalReplacementTherapy & 0.11789435\\\\\n",
       "\tIsNonInvasiveVentilation & 0.07701400\\\\\n",
       "\tIsVasopressors & 0.06087444\\\\\n",
       "\tSofaScore & 0.05570600\\\\\n",
       "\tAdmissionSourceName & 0.03649806\\\\\n",
       "\\end{tabular}\n"
      ],
      "text/markdown": [
       "\n",
       "A data.frame: 6 × 1\n",
       "\n",
       "| <!--/--> | Overall &lt;dbl&gt; |\n",
       "|---|---|\n",
       "| DeathProbability | 0.14066909 |\n",
       "| IsRenalReplacementTherapy | 0.11789435 |\n",
       "| IsNonInvasiveVentilation | 0.07701400 |\n",
       "| IsVasopressors | 0.06087444 |\n",
       "| SofaScore | 0.05570600 |\n",
       "| AdmissionSourceName | 0.03649806 |\n",
       "\n"
      ],
      "text/plain": [
       "                          Overall   \n",
       "DeathProbability          0.14066909\n",
       "IsRenalReplacementTherapy 0.11789435\n",
       "IsNonInvasiveVentilation  0.07701400\n",
       "IsVasopressors            0.06087444\n",
       "SofaScore                 0.05570600\n",
       "AdmissionSourceName       0.03649806"
      ]
     },
     "metadata": {},
     "output_type": "display_data"
    },
    {
     "data": {
      "text/html": [
       "<table class=\"dataframe\">\n",
       "<caption>A data.frame: 6 × 4</caption>\n",
       "<thead>\n",
       "\t<tr><th></th><th scope=col>Overall</th><th scope=col>var</th><th scope=col>Variables</th><th scope=col>Resample</th></tr>\n",
       "\t<tr><th></th><th scope=col>&lt;dbl&gt;</th><th scope=col>&lt;chr&gt;</th><th scope=col>&lt;dbl&gt;</th><th scope=col>&lt;chr&gt;</th></tr>\n",
       "</thead>\n",
       "<tbody>\n",
       "\t<tr><th scope=row>1</th><td>0.14244537</td><td>DeathProbability         </td><td>30</td><td>Fold1</td></tr>\n",
       "\t<tr><th scope=row>2</th><td>0.11611897</td><td>IsRenalReplacementTherapy</td><td>30</td><td>Fold1</td></tr>\n",
       "\t<tr><th scope=row>3</th><td>0.07720665</td><td>IsNonInvasiveVentilation </td><td>30</td><td>Fold1</td></tr>\n",
       "\t<tr><th scope=row>4</th><td>0.06017755</td><td>IsVasopressors           </td><td>30</td><td>Fold1</td></tr>\n",
       "\t<tr><th scope=row>5</th><td>0.05351004</td><td>SofaScore                </td><td>30</td><td>Fold1</td></tr>\n",
       "\t<tr><th scope=row>6</th><td>0.03617951</td><td>AdmissionSourceName      </td><td>30</td><td>Fold1</td></tr>\n",
       "</tbody>\n",
       "</table>\n"
      ],
      "text/latex": [
       "A data.frame: 6 × 4\n",
       "\\begin{tabular}{r|llll}\n",
       "  & Overall & var & Variables & Resample\\\\\n",
       "  & <dbl> & <chr> & <dbl> & <chr>\\\\\n",
       "\\hline\n",
       "\t1 & 0.14244537 & DeathProbability          & 30 & Fold1\\\\\n",
       "\t2 & 0.11611897 & IsRenalReplacementTherapy & 30 & Fold1\\\\\n",
       "\t3 & 0.07720665 & IsNonInvasiveVentilation  & 30 & Fold1\\\\\n",
       "\t4 & 0.06017755 & IsVasopressors            & 30 & Fold1\\\\\n",
       "\t5 & 0.05351004 & SofaScore                 & 30 & Fold1\\\\\n",
       "\t6 & 0.03617951 & AdmissionSourceName       & 30 & Fold1\\\\\n",
       "\\end{tabular}\n"
      ],
      "text/markdown": [
       "\n",
       "A data.frame: 6 × 4\n",
       "\n",
       "| <!--/--> | Overall &lt;dbl&gt; | var &lt;chr&gt; | Variables &lt;dbl&gt; | Resample &lt;chr&gt; |\n",
       "|---|---|---|---|---|\n",
       "| 1 | 0.14244537 | DeathProbability          | 30 | Fold1 |\n",
       "| 2 | 0.11611897 | IsRenalReplacementTherapy | 30 | Fold1 |\n",
       "| 3 | 0.07720665 | IsNonInvasiveVentilation  | 30 | Fold1 |\n",
       "| 4 | 0.06017755 | IsVasopressors            | 30 | Fold1 |\n",
       "| 5 | 0.05351004 | SofaScore                 | 30 | Fold1 |\n",
       "| 6 | 0.03617951 | AdmissionSourceName       | 30 | Fold1 |\n",
       "\n"
      ],
      "text/plain": [
       "  Overall    var                       Variables Resample\n",
       "1 0.14244537 DeathProbability          30        Fold1   \n",
       "2 0.11611897 IsRenalReplacementTherapy 30        Fold1   \n",
       "3 0.07720665 IsNonInvasiveVentilation  30        Fold1   \n",
       "4 0.06017755 IsVasopressors            30        Fold1   \n",
       "5 0.05351004 SofaScore                 30        Fold1   \n",
       "6 0.03617951 AdmissionSourceName       30        Fold1   "
      ]
     },
     "metadata": {},
     "output_type": "display_data"
    }
   ],
   "source": [
    "rfe_result$results\n",
    "rfe_result$fit\n",
    "head(rfe_result$optVariables)\n",
    "head(varImp(rfe_result))\n",
    "head(rfe_result$variables)"
   ]
  },
  {
   "cell_type": "code",
   "execution_count": 2,
   "metadata": {
    "vscode": {
     "languageId": "r"
    }
   },
   "outputs": [],
   "source": [
    "load('rfe_result_treebag.RData')"
   ]
  },
  {
   "cell_type": "code",
   "execution_count": 7,
   "metadata": {
    "vscode": {
     "languageId": "r"
    }
   },
   "outputs": [
    {
     "data": {
      "text/html": [
       "<style>\n",
       ".list-inline {list-style: none; margin:0; padding: 0}\n",
       ".list-inline>li {display: inline-block}\n",
       ".list-inline>li:not(:last-child)::after {content: \"\\00b7\"; padding: 0 .5ex}\n",
       "</style>\n",
       "<ol class=list-inline><li>'DeathProbability'</li><li>'IsRenalReplacementTherapy'</li><li>'IsNonInvasiveVentilation'</li><li>'IsVasopressors'</li><li>'SofaScore'</li><li>'AdmissionSourceName'</li><li>'PaCO21h'</li><li>'HighestHeartRate24h'</li><li>'LowestGlasgowComaScale24h'</li><li>'LowestPlateletsCount24h'</li><li>'HighestRespiratoryRate24h'</li><li>'FiO224h'</li><li>'Gender'</li><li>'HighestCreatinine24h'</li><li>'HighestTemperature24h'</li><li>'Age'</li><li>'Bilirubin24h'</li><li>'BMI'</li><li>'HighestLeukocyteCount24h'</li><li>'IsChfNyhaClass4'</li><li>'IsCrfDialysis'</li><li>'IsDiabetes'</li><li>'IsSevereCopd'</li><li>'IsSolidTumorMetastatic'</li><li>'Lactate24h'</li><li>'LowestDiastolicBloodPressure24h'</li><li>'LowestSystolicBloodPressure24h'</li><li>'PaO24h'</li><li>'pH24h'</li><li>'Urea24h'</li></ol>\n"
      ],
      "text/latex": [
       "\\begin{enumerate*}\n",
       "\\item 'DeathProbability'\n",
       "\\item 'IsRenalReplacementTherapy'\n",
       "\\item 'IsNonInvasiveVentilation'\n",
       "\\item 'IsVasopressors'\n",
       "\\item 'SofaScore'\n",
       "\\item 'AdmissionSourceName'\n",
       "\\item 'PaCO21h'\n",
       "\\item 'HighestHeartRate24h'\n",
       "\\item 'LowestGlasgowComaScale24h'\n",
       "\\item 'LowestPlateletsCount24h'\n",
       "\\item 'HighestRespiratoryRate24h'\n",
       "\\item 'FiO224h'\n",
       "\\item 'Gender'\n",
       "\\item 'HighestCreatinine24h'\n",
       "\\item 'HighestTemperature24h'\n",
       "\\item 'Age'\n",
       "\\item 'Bilirubin24h'\n",
       "\\item 'BMI'\n",
       "\\item 'HighestLeukocyteCount24h'\n",
       "\\item 'IsChfNyhaClass4'\n",
       "\\item 'IsCrfDialysis'\n",
       "\\item 'IsDiabetes'\n",
       "\\item 'IsSevereCopd'\n",
       "\\item 'IsSolidTumorMetastatic'\n",
       "\\item 'Lactate24h'\n",
       "\\item 'LowestDiastolicBloodPressure24h'\n",
       "\\item 'LowestSystolicBloodPressure24h'\n",
       "\\item 'PaO24h'\n",
       "\\item 'pH24h'\n",
       "\\item 'Urea24h'\n",
       "\\end{enumerate*}\n"
      ],
      "text/markdown": [
       "1. 'DeathProbability'\n",
       "2. 'IsRenalReplacementTherapy'\n",
       "3. 'IsNonInvasiveVentilation'\n",
       "4. 'IsVasopressors'\n",
       "5. 'SofaScore'\n",
       "6. 'AdmissionSourceName'\n",
       "7. 'PaCO21h'\n",
       "8. 'HighestHeartRate24h'\n",
       "9. 'LowestGlasgowComaScale24h'\n",
       "10. 'LowestPlateletsCount24h'\n",
       "11. 'HighestRespiratoryRate24h'\n",
       "12. 'FiO224h'\n",
       "13. 'Gender'\n",
       "14. 'HighestCreatinine24h'\n",
       "15. 'HighestTemperature24h'\n",
       "16. 'Age'\n",
       "17. 'Bilirubin24h'\n",
       "18. 'BMI'\n",
       "19. 'HighestLeukocyteCount24h'\n",
       "20. 'IsChfNyhaClass4'\n",
       "21. 'IsCrfDialysis'\n",
       "22. 'IsDiabetes'\n",
       "23. 'IsSevereCopd'\n",
       "24. 'IsSolidTumorMetastatic'\n",
       "25. 'Lactate24h'\n",
       "26. 'LowestDiastolicBloodPressure24h'\n",
       "27. 'LowestSystolicBloodPressure24h'\n",
       "28. 'PaO24h'\n",
       "29. 'pH24h'\n",
       "30. 'Urea24h'\n",
       "\n",
       "\n"
      ],
      "text/plain": [
       " [1] \"DeathProbability\"                \"IsRenalReplacementTherapy\"      \n",
       " [3] \"IsNonInvasiveVentilation\"        \"IsVasopressors\"                 \n",
       " [5] \"SofaScore\"                       \"AdmissionSourceName\"            \n",
       " [7] \"PaCO21h\"                         \"HighestHeartRate24h\"            \n",
       " [9] \"LowestGlasgowComaScale24h\"       \"LowestPlateletsCount24h\"        \n",
       "[11] \"HighestRespiratoryRate24h\"       \"FiO224h\"                        \n",
       "[13] \"Gender\"                          \"HighestCreatinine24h\"           \n",
       "[15] \"HighestTemperature24h\"           \"Age\"                            \n",
       "[17] \"Bilirubin24h\"                    \"BMI\"                            \n",
       "[19] \"HighestLeukocyteCount24h\"        \"IsChfNyhaClass4\"                \n",
       "[21] \"IsCrfDialysis\"                   \"IsDiabetes\"                     \n",
       "[23] \"IsSevereCopd\"                    \"IsSolidTumorMetastatic\"         \n",
       "[25] \"Lactate24h\"                      \"LowestDiastolicBloodPressure24h\"\n",
       "[27] \"LowestSystolicBloodPressure24h\"  \"PaO24h\"                         \n",
       "[29] \"pH24h\"                           \"Urea24h\"                        "
      ]
     },
     "metadata": {},
     "output_type": "display_data"
    }
   ],
   "source": [
    "\n",
    "predictors(rfe_result)"
   ]
  }
 ],
 "metadata": {
  "kernelspec": {
   "display_name": "R",
   "language": "R",
   "name": "ir"
  },
  "language_info": {
   "codemirror_mode": "r",
   "file_extension": ".r",
   "mimetype": "text/x-r-source",
   "name": "R",
   "pygments_lexer": "r",
   "version": "4.4.1"
  }
 },
 "nbformat": 4,
 "nbformat_minor": 2
}
