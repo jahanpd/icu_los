{
 "cells": [
  {
   "cell_type": "code",
   "execution_count": 1,
   "metadata": {
    "vscode": {
     "languageId": "r"
    }
   },
   "outputs": [
    {
     "name": "stderr",
     "output_type": "stream",
     "text": [
      "Loading required package: caret\n",
      "\n",
      "Loading required package: ggplot2\n",
      "\n",
      "Loading required package: lattice\n",
      "\n",
      "Loading required package: DescTools\n",
      "\n",
      "\n",
      "Attaching package: ‘DescTools’\n",
      "\n",
      "\n",
      "The following objects are masked from ‘package:caret’:\n",
      "\n",
      "    MAE, RMSE\n",
      "\n",
      "\n",
      "Loading required package: mice\n",
      "\n",
      "\n",
      "Attaching package: ‘mice’\n",
      "\n",
      "\n",
      "The following object is masked from ‘package:stats’:\n",
      "\n",
      "    filter\n",
      "\n",
      "\n",
      "The following objects are masked from ‘package:base’:\n",
      "\n",
      "    cbind, rbind\n",
      "\n",
      "\n",
      "Loading required package: dplyr\n",
      "\n",
      "\n",
      "Attaching package: ‘dplyr’\n",
      "\n",
      "\n",
      "The following objects are masked from ‘package:stats’:\n",
      "\n",
      "    filter, lag\n",
      "\n",
      "\n",
      "The following objects are masked from ‘package:base’:\n",
      "\n",
      "    intersect, setdiff, setequal, union\n",
      "\n",
      "\n"
     ]
    }
   ],
   "source": [
    "if(!require(caret)) {install.packages(\"caret\"); library(caret) }\n",
    "if(!require(DescTools)) {install.packages(\"DescTools\"); library(DescTools) }\n",
    "if(!require(mice)) {install.packages(\"mice\"); library(mice) }\n",
    "if(!require(dplyr)) {install.packages(\"dplyr\"); library(dplyr) }"
   ]
  },
  {
   "cell_type": "code",
   "execution_count": 37,
   "metadata": {
    "vscode": {
     "languageId": "r"
    }
   },
   "outputs": [
    {
     "data": {
      "text/html": [
       "<table class=\"dataframe\">\n",
       "<caption>A data.frame: 6 × 45</caption>\n",
       "<thead>\n",
       "\t<tr><th></th><th scope=col>Age</th><th scope=col>Gender</th><th scope=col>BMI</th><th scope=col>isReadmission</th><th scope=col>UnitLengthStay</th><th scope=col>AdmissionSourceName</th><th scope=col>Frailty</th><th scope=col>DeathProbability</th><th scope=col>SofaScore</th><th scope=col>AdmissionMainDiagnosisName</th><th scope=col>⋯</th><th scope=col>FiO224h</th><th scope=col>HighestHeartRate24h</th><th scope=col>HighestRespiratoryRate24h</th><th scope=col>HighestTemperature24h</th><th scope=col>HighestLeukocyteCount24h</th><th scope=col>HighestCreatinine24h</th><th scope=col>Bilirubin24h</th><th scope=col>Lactate24h</th><th scope=col>Urea24h</th><th scope=col>IsMechanicalVentilation24h</th></tr>\n",
       "\t<tr><th></th><th scope=col>&lt;dbl&gt;</th><th scope=col>&lt;fct&gt;</th><th scope=col>&lt;dbl&gt;</th><th scope=col>&lt;lgl&gt;</th><th scope=col>&lt;dbl&gt;</th><th scope=col>&lt;fct&gt;</th><th scope=col>&lt;lgl&gt;</th><th scope=col>&lt;dbl&gt;</th><th scope=col>&lt;dbl&gt;</th><th scope=col>&lt;chr&gt;</th><th scope=col>⋯</th><th scope=col>&lt;dbl&gt;</th><th scope=col>&lt;dbl&gt;</th><th scope=col>&lt;dbl&gt;</th><th scope=col>&lt;dbl&gt;</th><th scope=col>&lt;dbl&gt;</th><th scope=col>&lt;dbl&gt;</th><th scope=col>&lt;dbl&gt;</th><th scope=col>&lt;dbl&gt;</th><th scope=col>&lt;dbl&gt;</th><th scope=col>&lt;lgl&gt;</th></tr>\n",
       "</thead>\n",
       "<tbody>\n",
       "\t<tr><th scope=row>1</th><td>41.85</td><td>M</td><td>     NA</td><td>FALSE</td><td> 39.16667</td><td>2</td><td>FALSE</td><td>0.000739</td><td>2</td><td></td><td>⋯</td><td>0.21</td><td>100</td><td>20</td><td>37.5</td><td>20.21</td><td>86</td><td> 8</td><td>0.8</td><td>6.6</td><td>FALSE</td></tr>\n",
       "\t<tr><th scope=row>2</th><td>67.00</td><td>F</td><td>     NA</td><td>FALSE</td><td> 64.50000</td><td>3</td><td>   NA</td><td>0.058088</td><td>4</td><td></td><td>⋯</td><td>0.21</td><td>124</td><td>33</td><td>39.2</td><td>10.60</td><td>63</td><td>19</td><td> NA</td><td>4.8</td><td>FALSE</td></tr>\n",
       "\t<tr><th scope=row>3</th><td>70.14</td><td>F</td><td>     NA</td><td>FALSE</td><td>135.31667</td><td>2</td><td>FALSE</td><td>0.170892</td><td>2</td><td></td><td>⋯</td><td>  NA</td><td>118</td><td>30</td><td>36.7</td><td>17.50</td><td>74</td><td>46</td><td>1.2</td><td>7.7</td><td>FALSE</td></tr>\n",
       "\t<tr><th scope=row>4</th><td>88.20</td><td>M</td><td>     NA</td><td>FALSE</td><td> 44.91667</td><td>1</td><td>   NA</td><td>0.050472</td><td>1</td><td></td><td>⋯</td><td>0.28</td><td> 75</td><td>24</td><td>36.7</td><td>13.80</td><td>69</td><td>10</td><td>0.0</td><td>6.7</td><td> TRUE</td></tr>\n",
       "\t<tr><th scope=row>5</th><td>51.20</td><td>M</td><td>40.2725</td><td>FALSE</td><td>112.56667</td><td>2</td><td>   NA</td><td>0.001877</td><td>1</td><td></td><td>⋯</td><td>  NA</td><td> 83</td><td>22</td><td>37.0</td><td> 8.30</td><td>52</td><td>NA</td><td> NA</td><td>4.1</td><td>FALSE</td></tr>\n",
       "\t<tr><th scope=row>6</th><td>65.80</td><td>M</td><td>     NA</td><td>FALSE</td><td>137.91667</td><td>2</td><td>   NA</td><td>0.079235</td><td>3</td><td></td><td>⋯</td><td>0.36</td><td>178</td><td>34</td><td>37.1</td><td> 4.88</td><td>60</td><td> 8</td><td>2.3</td><td>7.9</td><td>FALSE</td></tr>\n",
       "</tbody>\n",
       "</table>\n"
      ],
      "text/latex": [
       "A data.frame: 6 × 45\n",
       "\\begin{tabular}{r|lllllllllllllllllllll}\n",
       "  & Age & Gender & BMI & isReadmission & UnitLengthStay & AdmissionSourceName & Frailty & DeathProbability & SofaScore & AdmissionMainDiagnosisName & ⋯ & FiO224h & HighestHeartRate24h & HighestRespiratoryRate24h & HighestTemperature24h & HighestLeukocyteCount24h & HighestCreatinine24h & Bilirubin24h & Lactate24h & Urea24h & IsMechanicalVentilation24h\\\\\n",
       "  & <dbl> & <fct> & <dbl> & <lgl> & <dbl> & <fct> & <lgl> & <dbl> & <dbl> & <chr> & ⋯ & <dbl> & <dbl> & <dbl> & <dbl> & <dbl> & <dbl> & <dbl> & <dbl> & <dbl> & <lgl>\\\\\n",
       "\\hline\n",
       "\t1 & 41.85 & M &      NA & FALSE &  39.16667 & 2 & FALSE & 0.000739 & 2 &  & ⋯ & 0.21 & 100 & 20 & 37.5 & 20.21 & 86 &  8 & 0.8 & 6.6 & FALSE\\\\\n",
       "\t2 & 67.00 & F &      NA & FALSE &  64.50000 & 3 &    NA & 0.058088 & 4 &  & ⋯ & 0.21 & 124 & 33 & 39.2 & 10.60 & 63 & 19 &  NA & 4.8 & FALSE\\\\\n",
       "\t3 & 70.14 & F &      NA & FALSE & 135.31667 & 2 & FALSE & 0.170892 & 2 &  & ⋯ &   NA & 118 & 30 & 36.7 & 17.50 & 74 & 46 & 1.2 & 7.7 & FALSE\\\\\n",
       "\t4 & 88.20 & M &      NA & FALSE &  44.91667 & 1 &    NA & 0.050472 & 1 &  & ⋯ & 0.28 &  75 & 24 & 36.7 & 13.80 & 69 & 10 & 0.0 & 6.7 &  TRUE\\\\\n",
       "\t5 & 51.20 & M & 40.2725 & FALSE & 112.56667 & 2 &    NA & 0.001877 & 1 &  & ⋯ &   NA &  83 & 22 & 37.0 &  8.30 & 52 & NA &  NA & 4.1 & FALSE\\\\\n",
       "\t6 & 65.80 & M &      NA & FALSE & 137.91667 & 2 &    NA & 0.079235 & 3 &  & ⋯ & 0.36 & 178 & 34 & 37.1 &  4.88 & 60 &  8 & 2.3 & 7.9 & FALSE\\\\\n",
       "\\end{tabular}\n"
      ],
      "text/markdown": [
       "\n",
       "A data.frame: 6 × 45\n",
       "\n",
       "| <!--/--> | Age &lt;dbl&gt; | Gender &lt;fct&gt; | BMI &lt;dbl&gt; | isReadmission &lt;lgl&gt; | UnitLengthStay &lt;dbl&gt; | AdmissionSourceName &lt;fct&gt; | Frailty &lt;lgl&gt; | DeathProbability &lt;dbl&gt; | SofaScore &lt;dbl&gt; | AdmissionMainDiagnosisName &lt;chr&gt; | ⋯ ⋯ | FiO224h &lt;dbl&gt; | HighestHeartRate24h &lt;dbl&gt; | HighestRespiratoryRate24h &lt;dbl&gt; | HighestTemperature24h &lt;dbl&gt; | HighestLeukocyteCount24h &lt;dbl&gt; | HighestCreatinine24h &lt;dbl&gt; | Bilirubin24h &lt;dbl&gt; | Lactate24h &lt;dbl&gt; | Urea24h &lt;dbl&gt; | IsMechanicalVentilation24h &lt;lgl&gt; |\n",
       "|---|---|---|---|---|---|---|---|---|---|---|---|---|---|---|---|---|---|---|---|---|---|\n",
       "| 1 | 41.85 | M |      NA | FALSE |  39.16667 | 2 | FALSE | 0.000739 | 2 | <!----> | ⋯ | 0.21 | 100 | 20 | 37.5 | 20.21 | 86 |  8 | 0.8 | 6.6 | FALSE |\n",
       "| 2 | 67.00 | F |      NA | FALSE |  64.50000 | 3 |    NA | 0.058088 | 4 | <!----> | ⋯ | 0.21 | 124 | 33 | 39.2 | 10.60 | 63 | 19 |  NA | 4.8 | FALSE |\n",
       "| 3 | 70.14 | F |      NA | FALSE | 135.31667 | 2 | FALSE | 0.170892 | 2 | <!----> | ⋯ |   NA | 118 | 30 | 36.7 | 17.50 | 74 | 46 | 1.2 | 7.7 | FALSE |\n",
       "| 4 | 88.20 | M |      NA | FALSE |  44.91667 | 1 |    NA | 0.050472 | 1 | <!----> | ⋯ | 0.28 |  75 | 24 | 36.7 | 13.80 | 69 | 10 | 0.0 | 6.7 |  TRUE |\n",
       "| 5 | 51.20 | M | 40.2725 | FALSE | 112.56667 | 2 |    NA | 0.001877 | 1 | <!----> | ⋯ |   NA |  83 | 22 | 37.0 |  8.30 | 52 | NA |  NA | 4.1 | FALSE |\n",
       "| 6 | 65.80 | M |      NA | FALSE | 137.91667 | 2 |    NA | 0.079235 | 3 | <!----> | ⋯ | 0.36 | 178 | 34 | 37.1 |  4.88 | 60 |  8 | 2.3 | 7.9 | FALSE |\n",
       "\n"
      ],
      "text/plain": [
       "  Age   Gender BMI     isReadmission UnitLengthStay AdmissionSourceName Frailty\n",
       "1 41.85 M           NA FALSE          39.16667      2                   FALSE  \n",
       "2 67.00 F           NA FALSE          64.50000      3                      NA  \n",
       "3 70.14 F           NA FALSE         135.31667      2                   FALSE  \n",
       "4 88.20 M           NA FALSE          44.91667      1                      NA  \n",
       "5 51.20 M      40.2725 FALSE         112.56667      2                      NA  \n",
       "6 65.80 M           NA FALSE         137.91667      2                      NA  \n",
       "  DeathProbability SofaScore AdmissionMainDiagnosisName ⋯ FiO224h\n",
       "1 0.000739         2                                    ⋯ 0.21   \n",
       "2 0.058088         4                                    ⋯ 0.21   \n",
       "3 0.170892         2                                    ⋯   NA   \n",
       "4 0.050472         1                                    ⋯ 0.28   \n",
       "5 0.001877         1                                    ⋯   NA   \n",
       "6 0.079235         3                                    ⋯ 0.36   \n",
       "  HighestHeartRate24h HighestRespiratoryRate24h HighestTemperature24h\n",
       "1 100                 20                        37.5                 \n",
       "2 124                 33                        39.2                 \n",
       "3 118                 30                        36.7                 \n",
       "4  75                 24                        36.7                 \n",
       "5  83                 22                        37.0                 \n",
       "6 178                 34                        37.1                 \n",
       "  HighestLeukocyteCount24h HighestCreatinine24h Bilirubin24h Lactate24h Urea24h\n",
       "1 20.21                    86                    8           0.8        6.6    \n",
       "2 10.60                    63                   19            NA        4.8    \n",
       "3 17.50                    74                   46           1.2        7.7    \n",
       "4 13.80                    69                   10           0.0        6.7    \n",
       "5  8.30                    52                   NA            NA        4.1    \n",
       "6  4.88                    60                    8           2.3        7.9    \n",
       "  IsMechanicalVentilation24h\n",
       "1 FALSE                     \n",
       "2 FALSE                     \n",
       "3 FALSE                     \n",
       "4  TRUE                     \n",
       "5 FALSE                     \n",
       "6 FALSE                     "
      ]
     },
     "metadata": {},
     "output_type": "display_data"
    }
   ],
   "source": [
    "load(\"processed.RData\")\n",
    "head(base)"
   ]
  },
  {
   "cell_type": "code",
   "execution_count": 39,
   "metadata": {
    "vscode": {
     "languageId": "r"
    }
   },
   "outputs": [
    {
     "data": {
      "text/html": [
       "163.375001"
      ],
      "text/latex": [
       "163.375001"
      ],
      "text/markdown": [
       "163.375001"
      ],
      "text/plain": [
       "[1] 163.375"
      ]
     },
     "metadata": {},
     "output_type": "display_data"
    }
   ],
   "source": [
    "q = quantile(base$UnitLengthStay, prob=c(0.25, 0.5, 0.75))\n",
    "q1 = as.numeric(q[1])\n",
    "q3 = as.numeric(q[3])\n",
    "outlier = q3 + 1.5*IQR(base$UnitLengthStay)\n",
    "outlier\n"
   ]
  },
  {
   "cell_type": "code",
   "execution_count": 40,
   "metadata": {
    "vscode": {
     "languageId": "r"
    }
   },
   "outputs": [],
   "source": [
    "set.seed(998)\n",
    "inTraining <- createDataPartition(base$UnitLengthStay,\n",
    "                                  p = .8, list = FALSE)\n",
    "training <- base[ inTraining,]\n",
    "training$UnitLengthStay[training$UnitLengthStay > outlier] <- NA\n",
    "testing  <- base[-inTraining,]\n",
    "testing$UnitLengthStay[testing$UnitLengthStay > outlier] <- NA\n"
   ]
  },
  {
   "cell_type": "code",
   "execution_count": 41,
   "metadata": {
    "vscode": {
     "languageId": "r"
    }
   },
   "outputs": [],
   "source": [
    "nzv = nearZeroVar(training, saveMetrics = T, freqCut = 100/2)\n",
    "nzv[\"Variaveis\"] = row.names(nzv)\n",
    "descritiva_nzv = nzv%>%\n",
    "  filter(nzv==T)%>%\n",
    "  select(Variaveis,freqRatio,percentUnique)\n",
    "retirados_nzv = descritiva_nzv$Variaveis"
   ]
  },
  {
   "cell_type": "code",
   "execution_count": 35,
   "metadata": {
    "vscode": {
     "languageId": "r"
    }
   },
   "outputs": [],
   "source": [
    "training = training %>%\n",
    "  select(.,-retirados_nzv)\n",
    "testing = testing %>%\n",
    "  select(.,-retirados_nzv)"
   ]
  },
  {
   "cell_type": "code",
   "execution_count": 36,
   "metadata": {
    "vscode": {
     "languageId": "r"
    }
   },
   "outputs": [],
   "source": [
    "# Identifying and Removing Correlated Predictors (for numeric features)\n",
    "training_pre_numeric = training %>%\n",
    "  select_if(., is.numeric)\n",
    "training_pre_numeric$UnitLengthStay = NULL\n",
    "descrCor <-  cor(training_pre_numeric, \n",
    "                 use=\"pairwise.complete.obs\")\n",
    "highlyCorDescr <- findCorrelation(descrCor, cutoff = .75)\n",
    "retirados_cor = colnames(training_pre_numeric[,highlyCorDescr])\n",
    "training_pre_numeric = \n",
    "  training_pre_numeric[,-highlyCorDescr]\n",
    "   \n",
    "testing_pre_numeric = testing %>%\n",
    "  select_if(., is.numeric)\n",
    "testing_pre_numeric$UnitLengthStay = NULL\n",
    "testing_pre_numeric = \n",
    "  testing_pre_numeric[,-highlyCorDescr]"
   ]
  },
  {
   "cell_type": "code",
   "execution_count": 37,
   "metadata": {
    "vscode": {
     "languageId": "r"
    }
   },
   "outputs": [],
   "source": [
    "# Identifying and Removing Correlated Predictors (for categorical features)\n",
    "training_pre_factor = training %>%\n",
    "  select_if(., is.factor)\n",
    "cramer_tab = PairApply(training_pre_factor,\n",
    "                       CramerV, symmetric = TRUE)\n",
    "cramer_tab[which(is.na(cramer_tab[,])==T)] = 0\n",
    "highlyCorCateg <- findCorrelation(cramer_tab, cutoff = 0.5)\n",
    "retirados_categ = colnames(training_pre_factor[,highlyCorCateg])\n",
    "training_pre_factor = training_pre_factor %>%\n",
    "  select(.,-retirados_categ)\n",
    "\n",
    "testing_pre_factor = testing %>%\n",
    "  select_if(., is.factor)\n",
    "testing_pre_factor = testing_pre_factor %>%\n",
    "  select(.,-retirados_categ)\n",
    "\n",
    "training = cbind(training_pre_numeric,training_pre_factor, training$UnitLengthStay)\n",
    "training$UnitLengthStay = training$`training$UnitLengthStay`\n",
    "training$`training$UnitLengthStay` = NULL\n",
    "\n",
    "testing = cbind(testing_pre_numeric,testing_pre_factor, testing$UnitLengthStay)\n",
    "testing$UnitLengthStay = testing$`testing$UnitLengthStay`\n",
    "testing$`testing$UnitLengthStay` = NULL\n"
   ]
  },
  {
   "cell_type": "code",
   "execution_count": 38,
   "metadata": {
    "vscode": {
     "languageId": "r"
    }
   },
   "outputs": [
    {
     "name": "stdout",
     "output_type": "stream",
     "text": [
      "\n",
      " iter imp variable\n",
      "  1   1  BMI  DeathProbability  LowestSystolicBloodPressure24h  LowestDiastolicBloodPressure24h  LowestGlasgowComaScale24h  LowestPlateletsCount24h  pH24h  PaO24h  PaCO21h  FiO224h  HighestHeartRate24h  HighestRespiratoryRate24h  HighestTemperature24h  HighestLeukocyteCount24h  HighestCreatinine24h  Bilirubin24h  Lactate24h  Urea24h  Gender  AdmissionSourceName  IsChfNyhaClass4  IsCrfDialysis  IsSolidTumorMetastatic  IsSevereCopd  IsDiabetes  IsNonInvasiveVentilation  IsVasopressors  IsRenalReplacementTherapy\n",
      "  2   1  BMI  DeathProbability  LowestSystolicBloodPressure24h  LowestDiastolicBloodPressure24h  LowestGlasgowComaScale24h  LowestPlateletsCount24h  pH24h  PaO24h  PaCO21h  FiO224h  HighestHeartRate24h  HighestRespiratoryRate24h  HighestTemperature24h  HighestLeukocyteCount24h  HighestCreatinine24h  Bilirubin24h  Lactate24h  Urea24h  Gender  AdmissionSourceName  IsChfNyhaClass4  IsCrfDialysis  IsSolidTumorMetastatic  IsSevereCopd  IsDiabetes  IsNonInvasiveVentilation  IsVasopressors  IsRenalReplacementTherapy\n",
      "  3   1  BMI  DeathProbability  LowestSystolicBloodPressure24h  LowestDiastolicBloodPressure24h  LowestGlasgowComaScale24h  LowestPlateletsCount24h  pH24h  PaO24h  PaCO21h  FiO224h  HighestHeartRate24h  HighestRespiratoryRate24h  HighestTemperature24h  HighestLeukocyteCount24h  HighestCreatinine24h  Bilirubin24h  Lactate24h  Urea24h  Gender  AdmissionSourceName  IsChfNyhaClass4  IsCrfDialysis  IsSolidTumorMetastatic  IsSevereCopd  IsDiabetes  IsNonInvasiveVentilation  IsVasopressors  IsRenalReplacementTherapy\n",
      "  4   1  BMI  DeathProbability  LowestSystolicBloodPressure24h  LowestDiastolicBloodPressure24h  LowestGlasgowComaScale24h  LowestPlateletsCount24h  pH24h  PaO24h  PaCO21h  FiO224h  HighestHeartRate24h  HighestRespiratoryRate24h  HighestTemperature24h  HighestLeukocyteCount24h  HighestCreatinine24h  Bilirubin24h  Lactate24h  Urea24h  Gender  AdmissionSourceName  IsChfNyhaClass4  IsCrfDialysis  IsSolidTumorMetastatic  IsSevereCopd  IsDiabetes  IsNonInvasiveVentilation  IsVasopressors  IsRenalReplacementTherapy\n",
      "  5   1  BMI  DeathProbability  LowestSystolicBloodPressure24h  LowestDiastolicBloodPressure24h  LowestGlasgowComaScale24h  LowestPlateletsCount24h  pH24h  PaO24h  PaCO21h  FiO224h  HighestHeartRate24h  HighestRespiratoryRate24h  HighestTemperature24h  HighestLeukocyteCount24h  HighestCreatinine24h  Bilirubin24h  Lactate24h  Urea24h  Gender  AdmissionSourceName  IsChfNyhaClass4  IsCrfDialysis  IsSolidTumorMetastatic  IsSevereCopd  IsDiabetes  IsNonInvasiveVentilation  IsVasopressors  IsRenalReplacementTherapy\n"
     ]
    },
    {
     "data": {
      "text/plain": [
       "      Age              BMI            DeathProbability     SofaScore     \n",
       " Min.   : 18.00   Min.   :    0.266   Min.   :0.000000   Min.   : 0.000  \n",
       " 1st Qu.: 51.90   1st Qu.:   24.032   1st Qu.:0.004477   1st Qu.: 1.000  \n",
       " Median : 65.80   Median :   27.757   Median :0.014799   Median : 3.000  \n",
       " Mean   : 62.56   Mean   :   31.038   Mean   :0.081889   Mean   : 3.535  \n",
       " 3rd Qu.: 75.51   3rd Qu.:   32.873   3rd Qu.:0.066915   3rd Qu.: 5.000  \n",
       " Max.   :109.97   Max.   :12430.000   Max.   :0.999625   Max.   :22.000  \n",
       "                                                                         \n",
       " LowestSystolicBloodPressure24h LowestDiastolicBloodPressure24h\n",
       " Min.   :  1.00                 Min.   :  1.00                 \n",
       " 1st Qu.: 88.00                 1st Qu.: 46.00                 \n",
       " Median : 98.00                 Median : 52.00                 \n",
       " Mean   : 98.57                 Mean   : 53.81                 \n",
       " 3rd Qu.:110.00                 3rd Qu.: 60.00                 \n",
       " Max.   :248.00                 Max.   :250.00                 \n",
       "                                                               \n",
       " LowestGlasgowComaScale24h LowestPlateletsCount24h     pH24h     \n",
       " Min.   : 3.00             Min.   :   0.0          Min.   :6.30  \n",
       " 1st Qu.:14.00             1st Qu.: 151.0          1st Qu.:7.33  \n",
       " Median :15.00             Median : 199.0          Median :7.38  \n",
       " Mean   :13.83             Mean   : 210.9          Mean   :7.37  \n",
       " 3rd Qu.:15.00             3rd Qu.: 256.0          3rd Qu.:7.42  \n",
       " Max.   :15.00             Max.   :1500.0          Max.   :8.50  \n",
       "                                                                 \n",
       "     PaO24h         PaCO21h          FiO224h       HighestHeartRate24h\n",
       " Min.   : 15.0   Min.   :  5.00   Min.   :0.2100   Min.   :  1.00     \n",
       " 1st Qu.: 72.0   1st Qu.: 35.00   1st Qu.:0.2500   1st Qu.: 82.00     \n",
       " Median : 91.0   Median : 40.00   Median :0.3000   Median : 95.00     \n",
       " Mean   :118.2   Mean   : 40.92   Mean   :0.4006   Mean   : 97.48     \n",
       " 3rd Qu.:131.0   3rd Qu.: 45.00   3rd Qu.:0.5000   3rd Qu.:110.00     \n",
       " Max.   :720.0   Max.   :250.00   Max.   :1.0000   Max.   :300.00     \n",
       "                                                                      \n",
       " HighestRespiratoryRate24h HighestTemperature24h HighestLeukocyteCount24h\n",
       " Min.   : 1.00             Min.   :20.00         Min.   :  0.00          \n",
       " 1st Qu.:20.00             1st Qu.:36.70         1st Qu.:  9.00          \n",
       " Median :23.00             Median :37.10         Median : 12.00          \n",
       " Mean   :23.96             Mean   :37.17         Mean   : 13.45          \n",
       " 3rd Qu.:27.00             3rd Qu.:37.60         3rd Qu.: 16.00          \n",
       " Max.   :80.00             Max.   :46.00         Max.   :300.00          \n",
       "                                                                         \n",
       " HighestCreatinine24h  Bilirubin24h       Lactate24h        Urea24h       \n",
       " Min.   :  10.0       Min.   :   1.00   Min.   : 0.000   Min.   :  0.500  \n",
       " 1st Qu.:  64.0       1st Qu.:   7.00   1st Qu.: 1.000   1st Qu.:  4.600  \n",
       " Median :  82.0       Median :  11.00   Median : 1.600   Median :  6.300  \n",
       " Mean   : 118.2       Mean   :  16.77   Mean   : 2.206   Mean   :  8.516  \n",
       " 3rd Qu.: 115.0       3rd Qu.:  17.00   3rd Qu.: 2.400   3rd Qu.:  9.500  \n",
       " Max.   :2973.0       Max.   :1200.00   Max.   :50.000   Max.   :100.000  \n",
       "                                                                          \n",
       " Gender     AdmissionSourceName IsChfNyhaClass4 IsCrfDialysis\n",
       " F:392047   1:477924            1: 81631        1: 32944     \n",
       " I:   531   2:235138            2:819928        2:868615     \n",
       " M:508981   3:136444                                         \n",
       "            4:   948                                         \n",
       "            5: 36606                                         \n",
       "            6: 12321                                         \n",
       "            9:  2178                                         \n",
       " IsSolidTumorMetastatic IsSevereCopd IsDiabetes IsNonInvasiveVentilation\n",
       " 1: 37736               1: 68839     1: 22329   1:101708                \n",
       " 2:863823               2:832720     2:202729   2:799851                \n",
       "                                     3:  3473                           \n",
       "                                     4:  5965                           \n",
       "                                     5:667063                           \n",
       "                                                                        \n",
       "                                                                        \n",
       " IsVasopressors IsRenalReplacementTherapy UnitLengthStay    \n",
       " 1:332244       1: 37664                  Min.   :    0.00  \n",
       " 2:569315       2:863895                  1st Qu.:   21.92  \n",
       "                                          Median :   42.25  \n",
       "                                          Mean   :   73.03  \n",
       "                                          3rd Qu.:   78.50  \n",
       "                                          Max.   :11181.30  \n",
       "                                                            "
      ]
     },
     "metadata": {},
     "output_type": "display_data"
    }
   ],
   "source": [
    "#MICE Imputation\n",
    "training_imp = training\n",
    "testing_imp = testing\n",
    "\n",
    "  #training\n",
    "set.seed(100)\n",
    "predictormatrix = quickpred(training_imp,\n",
    "                          include = c(\"UnitLengthStay\"),\n",
    "                          exclude = NULL,\n",
    "                          mincor = 0.3)\n",
    "imp_gen = mice(data = training_imp,\n",
    "               predictorMatrix = predictormatrix,\n",
    "               m=1,\n",
    "               maxit = 5,\n",
    "               diagnostics=TRUE)\n",
    "\n",
    "imp_data = mice::complete(imp_gen,1)\n",
    "training_imp = imp_data\n",
    "summary(training_imp)\n"
   ]
  },
  {
   "cell_type": "code",
   "execution_count": 39,
   "metadata": {
    "vscode": {
     "languageId": "r"
    }
   },
   "outputs": [
    {
     "name": "stdout",
     "output_type": "stream",
     "text": [
      "\n",
      " iter imp variable\n",
      "  1   1  BMI  DeathProbability  LowestSystolicBloodPressure24h  LowestDiastolicBloodPressure24h  LowestGlasgowComaScale24h  LowestPlateletsCount24h  pH24h  PaO24h  PaCO21h  FiO224h  HighestHeartRate24h  HighestRespiratoryRate24h  HighestTemperature24h  HighestLeukocyteCount24h  HighestCreatinine24h  Bilirubin24h  Lactate24h  Urea24h  Gender  AdmissionSourceName  IsChfNyhaClass4  IsCrfDialysis  IsSolidTumorMetastatic  IsSevereCopd  IsDiabetes  IsNonInvasiveVentilation  IsVasopressors  IsRenalReplacementTherapy\n",
      "  2   1  BMI  DeathProbability  LowestSystolicBloodPressure24h  LowestDiastolicBloodPressure24h  LowestGlasgowComaScale24h  LowestPlateletsCount24h  pH24h  PaO24h  PaCO21h  FiO224h  HighestHeartRate24h  HighestRespiratoryRate24h  HighestTemperature24h  HighestLeukocyteCount24h  HighestCreatinine24h  Bilirubin24h  Lactate24h  Urea24h  Gender  AdmissionSourceName  IsChfNyhaClass4  IsCrfDialysis  IsSolidTumorMetastatic  IsSevereCopd  IsDiabetes  IsNonInvasiveVentilation  IsVasopressors  IsRenalReplacementTherapy\n",
      "  3   1  BMI  DeathProbability  LowestSystolicBloodPressure24h  LowestDiastolicBloodPressure24h  LowestGlasgowComaScale24h  LowestPlateletsCount24h  pH24h  PaO24h  PaCO21h  FiO224h  HighestHeartRate24h  HighestRespiratoryRate24h  HighestTemperature24h  HighestLeukocyteCount24h  HighestCreatinine24h  Bilirubin24h  Lactate24h  Urea24h  Gender  AdmissionSourceName  IsChfNyhaClass4  IsCrfDialysis  IsSolidTumorMetastatic  IsSevereCopd  IsDiabetes  IsNonInvasiveVentilation  IsVasopressors  IsRenalReplacementTherapy\n",
      "  4   1  BMI  DeathProbability  LowestSystolicBloodPressure24h  LowestDiastolicBloodPressure24h  LowestGlasgowComaScale24h  LowestPlateletsCount24h  pH24h  PaO24h  PaCO21h  FiO224h  HighestHeartRate24h  HighestRespiratoryRate24h  HighestTemperature24h  HighestLeukocyteCount24h  HighestCreatinine24h  Bilirubin24h  Lactate24h  Urea24h  Gender  AdmissionSourceName  IsChfNyhaClass4  IsCrfDialysis  IsSolidTumorMetastatic  IsSevereCopd  IsDiabetes  IsNonInvasiveVentilation  IsVasopressors  IsRenalReplacementTherapy\n",
      "  5   1  BMI  DeathProbability  LowestSystolicBloodPressure24h  LowestDiastolicBloodPressure24h  LowestGlasgowComaScale24h  LowestPlateletsCount24h  pH24h  PaO24h  PaCO21h  FiO224h  HighestHeartRate24h  HighestRespiratoryRate24h  HighestTemperature24h  HighestLeukocyteCount24h  HighestCreatinine24h  Bilirubin24h  Lactate24h  Urea24h  Gender  AdmissionSourceName  IsChfNyhaClass4  IsCrfDialysis  IsSolidTumorMetastatic  IsSevereCopd  IsDiabetes  IsNonInvasiveVentilation  IsVasopressors  IsRenalReplacementTherapy\n"
     ]
    },
    {
     "data": {
      "text/plain": [
       "      Age              BMI           DeathProbability     SofaScore     \n",
       " Min.   : 18.00   Min.   :   0.283   Min.   :0.000000   Min.   : 0.000  \n",
       " 1st Qu.: 51.92   1st Qu.:  24.049   1st Qu.:0.004508   1st Qu.: 1.000  \n",
       " Median : 65.80   Median :  27.778   Median :0.014928   Median : 3.000  \n",
       " Mean   : 62.62   Mean   :  31.172   Mean   :0.082188   Mean   : 3.533  \n",
       " 3rd Qu.: 75.58   3rd Qu.:  32.966   3rd Qu.:0.067086   3rd Qu.: 5.000  \n",
       " Max.   :109.07   Max.   :9173.554   Max.   :0.998245   Max.   :21.000  \n",
       "                                                                        \n",
       " LowestSystolicBloodPressure24h LowestDiastolicBloodPressure24h\n",
       " Min.   :  1.00                 Min.   :  1.00                 \n",
       " 1st Qu.: 88.00                 1st Qu.: 46.00                 \n",
       " Median : 98.00                 Median : 52.00                 \n",
       " Mean   : 98.54                 Mean   : 53.75                 \n",
       " 3rd Qu.:110.00                 3rd Qu.: 60.00                 \n",
       " Max.   :227.00                 Max.   :165.00                 \n",
       "                                                               \n",
       " LowestGlasgowComaScale24h LowestPlateletsCount24h     pH24h          PaO24h   \n",
       " Min.   : 3.00             Min.   :   0.0          Min.   :6.30   Min.   : 15  \n",
       " 1st Qu.:14.00             1st Qu.: 150.0          1st Qu.:7.33   1st Qu.: 72  \n",
       " Median :15.00             Median : 199.0          Median :7.38   Median : 91  \n",
       " Mean   :13.83             Mean   : 210.4          Mean   :7.37   Mean   :117  \n",
       " 3rd Qu.:15.00             3rd Qu.: 255.0          3rd Qu.:7.42   3rd Qu.:130  \n",
       " Max.   :15.00             Max.   :1500.0          Max.   :8.50   Max.   :720  \n",
       "                                                                               \n",
       "    PaCO21h          FiO224h      HighestHeartRate24h HighestRespiratoryRate24h\n",
       " Min.   :  5.00   Min.   :0.210   Min.   :  1.00      Min.   : 1.00            \n",
       " 1st Qu.: 35.00   1st Qu.:0.250   1st Qu.: 82.00      1st Qu.:20.00            \n",
       " Median : 40.00   Median :0.300   Median : 95.00      Median :23.00            \n",
       " Mean   : 40.88   Mean   :0.399   Mean   : 97.42      Mean   :23.94            \n",
       " 3rd Qu.: 45.00   3rd Qu.:0.500   3rd Qu.:110.00      3rd Qu.:27.00            \n",
       " Max.   :247.00   Max.   :1.000   Max.   :300.00      Max.   :80.00            \n",
       "                                                                               \n",
       " HighestTemperature24h HighestLeukocyteCount24h HighestCreatinine24h\n",
       " Min.   :20.00         Min.   :  0.00           Min.   :  10.0      \n",
       " 1st Qu.:36.70         1st Qu.:  9.00           1st Qu.:  65.0      \n",
       " Median :37.10         Median : 12.00           Median :  82.0      \n",
       " Mean   :37.17         Mean   : 13.45           Mean   : 118.5      \n",
       " 3rd Qu.:37.60         3rd Qu.: 16.00           3rd Qu.: 115.0      \n",
       " Max.   :45.70         Max.   :300.00           Max.   :2963.0      \n",
       "                                                                    \n",
       "  Bilirubin24h       Lactate24h        Urea24h        Gender    \n",
       " Min.   :   1.00   Min.   : 0.000   Min.   :  0.500   F: 97897  \n",
       " 1st Qu.:   7.00   1st Qu.: 1.000   1st Qu.:  4.600   I:   126  \n",
       " Median :  11.00   Median : 1.600   Median :  6.400   M:127364  \n",
       " Mean   :  16.75   Mean   : 2.199   Mean   :  8.534             \n",
       " 3rd Qu.:  17.00   3rd Qu.: 2.400   3rd Qu.:  9.600             \n",
       " Max.   :1200.00   Max.   :50.000   Max.   :100.000             \n",
       "                                                                \n",
       " AdmissionSourceName IsChfNyhaClass4 IsCrfDialysis IsSolidTumorMetastatic\n",
       " 1:119455            1: 20452        1:  8341      1:  9390              \n",
       " 2: 58806            2:204935        2:217046      2:215997              \n",
       " 3: 34148                                                                \n",
       " 4:   223                                                                \n",
       " 5:  9188                                                                \n",
       " 6:  3047                                                                \n",
       " 9:   520                                                                \n",
       " IsSevereCopd IsDiabetes IsNonInvasiveVentilation IsVasopressors\n",
       " 1: 17025     1:  5512   1: 25437                 1: 82912      \n",
       " 2:208362     2: 50797   2:199950                 2:142475      \n",
       "              3:   866                                          \n",
       "              4:  1560                                          \n",
       "              5:166652                                          \n",
       "                                                                \n",
       "                                                                \n",
       " IsRenalReplacementTherapy UnitLengthStay   \n",
       " 1:  9291                  Min.   :   0.00  \n",
       " 2:216096                  1st Qu.:  21.92  \n",
       "                           Median :  42.25  \n",
       "                           Mean   :  72.67  \n",
       "                           3rd Qu.:  78.50  \n",
       "                           Max.   :8897.02  \n",
       "                                            "
      ]
     },
     "metadata": {},
     "output_type": "display_data"
    }
   ],
   "source": [
    "  #testing\n",
    "set.seed(100)\n",
    "predictormatrix = quickpred(testing_imp,\n",
    "                            include = c(\"UnitLengthStay\"),\n",
    "                            exclude = NULL,\n",
    "                            mincor = 0.3)\n",
    "imp_gen_test = mice(data = testing_imp,\n",
    "               predictorMatrix = predictormatrix,\n",
    "               m=1,\n",
    "               maxit = 5,\n",
    "               diagnostics=TRUE)\n",
    "imp_data_test = mice::complete(imp_gen_test,1)\n",
    "testing_imp = imp_data_test\n",
    "summary(testing_imp)"
   ]
  },
  {
   "cell_type": "code",
   "execution_count": 40,
   "metadata": {
    "vscode": {
     "languageId": "r"
    }
   },
   "outputs": [],
   "source": [
    "#Final preprocessed dataset\n",
    "write.csv(training, 'training.csv', row.names = FALSE)\n",
    "write.csv(testing, 'testing.csv', row.names = FALSE)"
   ]
  }
 ],
 "metadata": {
  "kernelspec": {
   "display_name": "R",
   "language": "R",
   "name": "ir"
  },
  "language_info": {
   "codemirror_mode": "r",
   "file_extension": ".r",
   "mimetype": "text/x-r-source",
   "name": "R",
   "pygments_lexer": "r",
   "version": "4.4.1"
  }
 },
 "nbformat": 4,
 "nbformat_minor": 2
}
